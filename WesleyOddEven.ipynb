{
 "cells": [
  {
   "cell_type": "code",
   "execution_count": 20,
   "metadata": {
    "collapsed": true
   },
   "outputs": [
    {
     "name": "stdout",
     "output_type": "stream",
     "text": [
      "-=7=-\n22\n11\n34\n17\n52\n26\n13\n40\n20\n10\n5\n16\n8\n4\n2\n1\nIt took 16 tries.\n"
     ]
    }
   ],
   "source": [
    "start = 7\n",
    "print('-=' + str(start) + '=-')\n",
    "\n",
    "\n",
    "def oddoreven(start):\n",
    "    # if even divide by two\n",
    "    if start % 2 == 0:\n",
    "        end = start / 2\n",
    "        return end\n",
    "    # if odd multiply by 3 then add 1\n",
    "    else:\n",
    "        end = start * 3 + 1\n",
    "        return end\n",
    "\n",
    "count = 0\n",
    "while True:\n",
    "    count = count + 1\n",
    "     \n",
    "    if count > 10000:\n",
    "        print('stopping because it might go in to an infinity loop')\n",
    "        break\n",
    "    else:\n",
    "        start = oddoreven(start)\n",
    "        print(int(start))\n",
    "        if start == 1:\n",
    "            print('It took ' + str(count) + ' tries.')\n",
    "            break\n",
    "\n"
   ]
  },
  {
   "cell_type": "code",
   "execution_count": null,
   "metadata": {},
   "outputs": [],
   "source": [
    ""
   ]
  },
  {
   "cell_type": "code",
   "execution_count": null,
   "metadata": {},
   "outputs": [],
   "source": [
    ""
   ]
  }
 ],
 "metadata": {
  "kernelspec": {
   "display_name": "Python 2",
   "language": "python",
   "name": "python2"
  },
  "language_info": {
   "codemirror_mode": {
    "name": "ipython",
    "version": 2.0
   },
   "file_extension": ".py",
   "mimetype": "text/x-python",
   "name": "python",
   "nbconvert_exporter": "python",
   "pygments_lexer": "ipython2",
   "version": "2.7.6"
  }
 },
 "nbformat": 4,
 "nbformat_minor": 0
}